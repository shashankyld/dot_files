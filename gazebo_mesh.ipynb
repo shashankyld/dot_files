{
 "cells": [
  {
   "cell_type": "code",
   "execution_count": 1,
   "metadata": {},
   "outputs": [],
   "source": [
    "# Load this point cloud /home/shashank/Documents/UniBonn/Sem2/MSR_P04/DataSets/custom_dataset/sequence1_bin/49897000.bin\n",
    "import open3d as o3d\n",
    "import numpy as np\n",
    "\n",
    "pcd = o3d.io.read_point_cloud(\"/home/shashank/Documents/UniBonn/Sem2/MSR_P04/DataSets/custom_dataset/sequence2/667354000.pcd\")\n",
    "o3d.visualization.draw_geometries([pcd])"
   ]
  },
  {
   "cell_type": "code",
   "execution_count": 2,
   "metadata": {},
   "outputs": [],
   "source": [
    "\n",
    "\n",
    "''' # Boundin box pose estimation\n",
    "[ 2.3751512  -7.905664   -0.9961796   4.599491    1.6807262   1.5213563\n",
    "  -0.02062713] # x,y,z,l,w,h,theta\n",
    "'''\n",
    "def compute_bounding_box_object(X, Y, Z, Length, Width, Height, Yaw):\n",
    "    # Create the bounding box vertices in its local frame\n",
    "    # vertices = np.array([\n",
    "    #     [Length / 2, 0, Width / 2],\n",
    "    #     [Length / 2, 0, -Width / 2],\n",
    "    #     [-Length / 2, 0, -Width / 2],\n",
    "    #     [-Length / 2, 0, Width / 2],\n",
    "    #     [Length / 2, Height, Width / 2],\n",
    "    #     [Length / 2, Height, -Width / 2],\n",
    "    #     [-Length / 2, Height, -Width / 2],\n",
    "    #     [-Length / 2, Height, Width / 2]\n",
    "    # ])\n",
    "\n",
    "    vertices = np.array([\n",
    "        [Length / 2, Width / 2, -Height/2],\n",
    "        [Length / 2, -Width / 2, -Height/2],\n",
    "        [-Length / 2, -Width / 2, -Height/2],\n",
    "        [-Length / 2, Width / 2, -Height/2],\n",
    "        [Length / 2, Width / 2, Height/2],\n",
    "        [Length / 2, -Width / 2, Height/2],\n",
    "        [-Length / 2, -Width / 2, Height/2],\n",
    "        [-Length / 2, Width / 2, Height/2]\n",
    "\n",
    "    ])\n",
    "\n",
    "    # Create the rotation matrix based on Yaw\n",
    "    rotation_matrix = np.array([\n",
    "        [np.cos(Yaw), 0, np.sin(Yaw)],\n",
    "        [0, 1, 0],\n",
    "        [-np.sin(Yaw), 0, np.cos(Yaw)]\n",
    "    ])\n",
    "\n",
    "    # Rotate and translate the bounding box to its final pose\n",
    "    rotated_vertices = np.dot(vertices, rotation_matrix.T)\n",
    "    translated_vertices = rotated_vertices + np.array([X, Y, Z])\n",
    "\n",
    "    return o3d.geometry.OrientedBoundingBox.create_from_points(o3d.utility.Vector3dVector(translated_vertices))\n",
    "coordinate_axis = o3d.geometry.TriangleMesh.create_coordinate_frame(size=1.0, origin=[0, 0, 0])\n",
    "bb_obj = compute_bounding_box_object(2.3751512, -7.905664, -0.9961796, 4.599491, 1.6807262, 1.5213563, -0.02062713)\n",
    "cropped_pcd = pcd.crop(bb_obj)\n",
    "# Visualize the point cloud\n",
    "o3d.visualization.draw_geometries([coordinate_axis,cropped_pcd])"
   ]
  },
  {
   "cell_type": "code",
   "execution_count": 3,
   "metadata": {},
   "outputs": [],
   "source": [
    "\n",
    "\n",
    "def compute_bounding_box_edges(X, Y, Z, Length, Width, Height,Yaw ):\n",
    "    # Create the bounding box vertices in its local frame\n",
    "    # vertices = np.array([\n",
    "    #     [Length / 2, 0, Width / 2],\n",
    "    #     [Length / 2, 0, -Width / 2],\n",
    "    #     [-Length / 2, 0, -Width / 2],\n",
    "    #     [-Length / 2, 0, Width / 2],\n",
    "    #     [Length / 2, Height, Width / 2],\n",
    "    #     [Length / 2, Height, -Width / 2],\n",
    "    #     [-Length / 2, Height, -Width / 2],\n",
    "    #     [-Length / 2, Height, Width / 2]\n",
    "    # ])\n",
    "\n",
    "    vertices = np.array([\n",
    "        [Length / 2, Width / 2, -Height/2],\n",
    "        [Length / 2, -Width / 2, -Height/2],\n",
    "        [-Length / 2, -Width / 2, -Height/2],\n",
    "        [-Length / 2, Width / 2, -Height/2],\n",
    "        [Length / 2, Width / 2, Height/2],\n",
    "        [Length / 2, -Width / 2, Height/2],\n",
    "        [-Length / 2, -Width / 2, Height/2],\n",
    "        [-Length / 2, Width / 2, Height/2]\n",
    "\n",
    "    ])\n",
    "    # Create the rotation matrix based on Yaw\n",
    "    rotation_matrix = np.array([\n",
    "        [np.cos(Yaw), 0, np.sin(Yaw)],\n",
    "        [0, 1, 0],\n",
    "        [-np.sin(Yaw), 0, np.cos(Yaw)]\n",
    "    ])\n",
    "\n",
    "    # Rotate and translate the bounding box to its final pose\n",
    "    rotated_vertices = np.dot(vertices, rotation_matrix.T)\n",
    "    translated_vertices = rotated_vertices + np.array([X, Y, Z])\n",
    "\n",
    "        # Define the edges of the bounding box\n",
    "    edges = [\n",
    "        [0, 1], [1, 2], [2, 3], [3, 0],\n",
    "        [4, 5], [5, 6], [6, 7], [7, 4],\n",
    "        [0, 4], [1, 5], [2, 6], [3, 7]\n",
    "    ]\n",
    "    # Create a Homogenous transformation matrix\n",
    "    T = np.eye(4)\n",
    "    T[:3, :3] = rotation_matrix\n",
    "    T[:3, 3] = np.array([X, Y, Z])\n",
    "\n",
    "    return o3d.geometry.LineSet(\n",
    "        points=o3d.utility.Vector3dVector(translated_vertices),\n",
    "        lines=o3d.utility.Vector2iVector(edges)\n",
    "    ), T"
   ]
  },
  {
   "cell_type": "code",
   "execution_count": 4,
   "metadata": {},
   "outputs": [
    {
     "name": "stdout",
     "output_type": "stream",
     "text": [
      "[[ 0.99978727  0.         -0.02062567  2.3751512 ]\n",
      " [ 0.          1.          0.         -7.905664  ]\n",
      " [ 0.02062567  0.          0.99978727 -0.9961796 ]\n",
      " [ 0.          0.          0.          1.        ]]\n"
     ]
    }
   ],
   "source": [
    "_,T = compute_bounding_box_edges(2.3751512, -7.905664, -0.9961796, 4.599491, 1.6807262, 1.5213563, -0.02062713)\n",
    "print(T)"
   ]
  },
  {
   "cell_type": "code",
   "execution_count": 7,
   "metadata": {},
   "outputs": [],
   "source": [
    "# Transform the cropped point cloud to the object frame\n",
    "import copy\n",
    "canonical_car = copy.deepcopy(cropped_pcd)\n",
    "canonical_car.transform(np.linalg.inv(T))\n",
    "o3d.visualization.draw_geometries([canonical_car, coordinate_axis])"
   ]
  },
  {
   "cell_type": "code",
   "execution_count": 6,
   "metadata": {},
   "outputs": [
    {
     "name": "stdout",
     "output_type": "stream",
     "text": [
      "Saved canonical_car.pcd\n"
     ]
    }
   ],
   "source": [
    "# Save Canonical Car PCD in sequence folder in a subfolder called \"canonical_pcd\"\n",
    "import os\n",
    "try:\n",
    "    o3d.io.write_point_cloud(\"/home/shashank/Documents/UniBonn/Sem2/MSR_P04/DataSets/custom_dataset/canonical_car.pcd\", canonical_car)\n",
    "except:\n",
    "    # Create output directory\n",
    "    if not os.path.exists(\"/home/shashank/Documents/UniBonn/Sem2/MSR_P04/DataSets/custom_dataset/sequence2/canonical_pcd\"):\n",
    "        os.makedirs(\"/home/shashank/Documents/UniBonn/Sem2/MSR_P04/DataSets/custom_dataset/sequence2/canonical_pcd\")\n",
    "    o3d.io.write_point_cloud(\"/home/shashank/Documents/UniBonn/Sem2/MSR_P04/DataSets/custom_dataset/sequence2/canonical_pcd/canonical_car.pcd\", canonical_car)\n",
    "print(\"Saved canonical_car.pcd\")\n"
   ]
  },
  {
   "cell_type": "code",
   "execution_count": null,
   "metadata": {},
   "outputs": [],
   "source": [
    "o3d."
   ]
  }
 ],
 "metadata": {
  "kernelspec": {
   "display_name": "dsp-slam",
   "language": "python",
   "name": "python3"
  },
  "language_info": {
   "codemirror_mode": {
    "name": "ipython",
    "version": 3
   },
   "file_extension": ".py",
   "mimetype": "text/x-python",
   "name": "python",
   "nbconvert_exporter": "python",
   "pygments_lexer": "ipython3",
   "version": "3.7.12"
  },
  "orig_nbformat": 4
 },
 "nbformat": 4,
 "nbformat_minor": 2
}
