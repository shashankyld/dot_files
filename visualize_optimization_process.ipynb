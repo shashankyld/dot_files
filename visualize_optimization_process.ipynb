{
 "cells": [
  {
   "cell_type": "code",
   "execution_count": 4,
   "metadata": {},
   "outputs": [],
   "source": [
    "import open3d as o3d\n",
    "import numpy as np\n"
   ]
  },
  {
   "cell_type": "code",
   "execution_count": 5,
   "metadata": {},
   "outputs": [],
   "source": [
    "car = o3d.io.read_point_cloud(\"/home/shashank/Documents/UniBonn/Sem2/MSR_P04/from_scratch/config/car_in_object_frame.pcd\")\n",
    "mesh_path = \"/home/shashank/Documents/UniBonn/Sem2/MSR_P04/from_scratch/optimized_meshes/car1/\"\n",
    "mesh = o3d.io.read_triangle_mesh(mesh_path + \"/mesh_optimized_2.ply\")\n",
    "# Visualize\n",
    "\n",
    "o3d.visualization.draw_geometries([car, mesh])\n"
   ]
  },
  {
   "cell_type": "code",
   "execution_count": null,
   "metadata": {},
   "outputs": [
    {
     "name": "stdout",
     "output_type": "stream",
     "text": [
      "\u001b[1;33m[Open3D WARNING] Read geometry::TriangleMesh failed: unknown file extension.\u001b[0;m\n"
     ]
    },
    {
     "ename": "TypeError",
     "evalue": "update_geometry(): incompatible function arguments. The following argument types are supported:\n    1. (self: open3d.cuda.pybind.visualization.Visualizer, geometry: open3d.cuda.pybind.geometry.Geometry) -> bool\n\nInvoked with: Visualizer with name Open3D",
     "output_type": "error",
     "traceback": [
      "\u001b[0;31m---------------------------------------------------------------------------\u001b[0m",
      "\u001b[0;31mTypeError\u001b[0m                                 Traceback (most recent call last)",
      "\u001b[0;32m/tmp/ipykernel_22830/3910422186.py\u001b[0m in \u001b[0;36m<module>\u001b[0;34m\u001b[0m\n\u001b[1;32m     13\u001b[0m     \u001b[0mvis\u001b[0m\u001b[0;34m.\u001b[0m\u001b[0madd_geometry\u001b[0m\u001b[0;34m(\u001b[0m\u001b[0mmesh\u001b[0m\u001b[0;34m)\u001b[0m\u001b[0;34m\u001b[0m\u001b[0;34m\u001b[0m\u001b[0m\n\u001b[1;32m     14\u001b[0m     \u001b[0mvis_ctr\u001b[0m\u001b[0;34m.\u001b[0m\u001b[0mchange_field_of_view\u001b[0m\u001b[0;34m(\u001b[0m\u001b[0mstep\u001b[0m\u001b[0;34m=\u001b[0m\u001b[0;34m-\u001b[0m\u001b[0;36m10\u001b[0m\u001b[0;34m)\u001b[0m\u001b[0;34m\u001b[0m\u001b[0;34m\u001b[0m\u001b[0m\n\u001b[0;32m---> 15\u001b[0;31m     \u001b[0mvis\u001b[0m\u001b[0;34m.\u001b[0m\u001b[0mupdate_geometry\u001b[0m\u001b[0;34m(\u001b[0m\u001b[0;34m)\u001b[0m\u001b[0;34m\u001b[0m\u001b[0;34m\u001b[0m\u001b[0m\n\u001b[0m\u001b[1;32m     16\u001b[0m     \u001b[0mvis\u001b[0m\u001b[0;34m.\u001b[0m\u001b[0mpoll_events\u001b[0m\u001b[0;34m(\u001b[0m\u001b[0;34m)\u001b[0m\u001b[0;34m\u001b[0m\u001b[0;34m\u001b[0m\u001b[0m\n\u001b[1;32m     17\u001b[0m     \u001b[0mvis\u001b[0m\u001b[0;34m.\u001b[0m\u001b[0mupdate_renderer\u001b[0m\u001b[0;34m(\u001b[0m\u001b[0;34m)\u001b[0m\u001b[0;34m\u001b[0m\u001b[0;34m\u001b[0m\u001b[0m\n",
      "\u001b[0;31mTypeError\u001b[0m: update_geometry(): incompatible function arguments. The following argument types are supported:\n    1. (self: open3d.cuda.pybind.visualization.Visualizer, geometry: open3d.cuda.pybind.geometry.Geometry) -> bool\n\nInvoked with: Visualizer with name Open3D"
     ]
    },
    {
     "ename": "",
     "evalue": "",
     "output_type": "error",
     "traceback": [
      "\u001b[1;31mThe Kernel crashed while executing code in the the current cell or a previous cell. Please review the code in the cell(s) to identify a possible cause of the failure. Click <a href='https://aka.ms/vscodeJupyterKernelCrash'>here</a> for more info. View Jupyter <a href='command:jupyter.viewOutput'>log</a> for further details."
     ]
    }
   ],
   "source": [
    "# Load all meshs and visualize them one by one\n",
    "\n",
    "import open3d as o3d\n",
    "import time\n",
    "import os\n",
    "\n",
    "vis = o3d.visualization.Visualizer()\n",
    "vis.create_window()\n",
    "vis_ctr = vis.get_view_control()\n",
    "mesh = o3d.geometry.TriangleMesh()\n",
    "vis.add_geometry(mesh)\n",
    "for file in mesh_path:\n",
    "    mesh = o3d.io.read_triangle_mesh(file)\n",
    "    vis_ctr.change_field_of_view(step=-10)\n",
    "    vis.update_geometry()\n",
    "    vis.poll_events()\n",
    "    vis.update_renderer()\n",
    "    time.sleep(1)\n",
    "    vis.remove_geometry(mesh)"
   ]
  }
 ],
 "metadata": {
  "kernelspec": {
   "display_name": "dsp-slam",
   "language": "python",
   "name": "python3"
  },
  "language_info": {
   "codemirror_mode": {
    "name": "ipython",
    "version": 3
   },
   "file_extension": ".py",
   "mimetype": "text/x-python",
   "name": "python",
   "nbconvert_exporter": "python",
   "pygments_lexer": "ipython3",
   "version": "3.7.12"
  },
  "orig_nbformat": 4
 },
 "nbformat": 4,
 "nbformat_minor": 2
}
