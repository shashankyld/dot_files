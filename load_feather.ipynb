{
 "cells": [
  {
   "cell_type": "code",
   "execution_count": 1,
   "metadata": {},
   "outputs": [],
   "source": [
    "\"\"\"\n",
    "# Format of .feather lidar file from ArgoVerse dataset\n",
    "               x          y         z  intensity  laser_number  offset_ns\n",
    "0      -1.291016   2.992188 -0.229370         24            31    3318000\n",
    "1     -25.921875  25.171875  0.992188          5            14    3318000\n",
    "2     -15.500000  18.937500  0.901855         34            16    3320303\n",
    "3      -3.140625   4.593750 -0.163696         12            30    3320303\n",
    "\"\"\"\n",
    "import os\n",
    "import numpy as np\n",
    "\n",
    "path = \"/home/shashank/data/datasets/av2/train-000/train/00a6ffc1-6ce9-3bc3-a060-6006e9893a1a/sensors/lidar/315967376859506000.feather\"\n",
    "import pyarrow.feather as feather\n",
    "# .feather format documentation: https://arrow.apache.org/docs/python/feather.html\n"
   ]
  },
  {
   "cell_type": "code",
   "execution_count": 9,
   "metadata": {},
   "outputs": [
    {
     "name": "stdout",
     "output_type": "stream",
     "text": [
      "           x          y         z  intensity  laser_number  offset_ns\n",
      "0  -1.291016   2.992188 -0.229370         24            31    3318000\n",
      "1 -25.921875  25.171875  0.992188          5            14    3318000\n",
      "2 -15.500000  18.937500  0.901855         34            16    3320303\n",
      "3  -3.140625   4.593750 -0.163696         12            30    3320303\n",
      "4  -4.445312   6.535156 -0.109802         14            29    3322607\n"
     ]
    },
    {
     "data": {
      "text/plain": [
       "True"
      ]
     },
     "execution_count": 9,
     "metadata": {},
     "output_type": "execute_result"
    }
   ],
   "source": [
    "read_df = feather.read_feather(path)\n",
    "print(read_df.head())\n",
    "\n",
    "# Convert the df_point cloud to pcd format\n",
    "import open3d as o3d\n",
    "pcd = o3d.geometry.PointCloud()\n",
    "pcd.points = o3d.utility.Vector3dVector(read_df[['x', 'y', 'z']].values)\n",
    "# Colour the point cloud green\n",
    "# pcd.paint_uniform_color([0, 1, 0])\n",
    "\n",
    "\n",
    "\n",
    "o3d.io.write_point_cloud(\"test.pcd\", pcd)\n"
   ]
  },
  {
   "cell_type": "code",
   "execution_count": 10,
   "metadata": {},
   "outputs": [],
   "source": [
    "pcd_path = \"test.pcd\"\n",
    "pcd = o3d.io.read_point_cloud(pcd_path)\n",
    "# Visualize the point cloud\n",
    "o3d.visualization.draw_geometries([pcd])\n"
   ]
  }
 ],
 "metadata": {
  "kernelspec": {
   "display_name": "project2",
   "language": "python",
   "name": "python3"
  },
  "language_info": {
   "codemirror_mode": {
    "name": "ipython",
    "version": 3
   },
   "file_extension": ".py",
   "mimetype": "text/x-python",
   "name": "python",
   "nbconvert_exporter": "python",
   "pygments_lexer": "ipython3",
   "version": "3.9.16"
  }
 },
 "nbformat": 4,
 "nbformat_minor": 2
}
